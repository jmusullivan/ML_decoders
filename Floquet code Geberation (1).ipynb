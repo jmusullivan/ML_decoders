{
 "cells": [
  {
   "cell_type": "code",
   "execution_count": 48,
   "id": "f93fd36b",
   "metadata": {},
   "outputs": [],
   "source": [
    "import matplotlib.pyplot as plt\n",
    "import numpy as np\n",
    "from typing import Callable, List, Dict, Any, Set, FrozenSet, Iterable, Tuple\n",
    "import math\n",
    "import random\n"
   ]
  },
  {
   "cell_type": "code",
   "execution_count": 2,
   "id": "9a39dfd1",
   "metadata": {},
   "outputs": [],
   "source": [
    "distance=1"
   ]
  },
  {
   "cell_type": "markdown",
   "id": "858ef97c",
   "metadata": {},
   "source": [
    "### On a torus, define the periodicity of the lattice"
   ]
  },
  {
   "cell_type": "code",
   "execution_count": 3,
   "id": "13cd8c12",
   "metadata": {},
   "outputs": [],
   "source": [
    "def torus(c: complex, *, distance: int) -> complex:\n",
    "    r = c.real % (distance * 4)\n",
    "    i = c.imag % (distance * 6)\n",
    "    return r + i*1j"
   ]
  },
  {
   "cell_type": "markdown",
   "id": "c1b9f35e",
   "metadata": {},
   "source": [
    "### To sort a list of complex"
   ]
  },
  {
   "cell_type": "code",
   "execution_count": 4,
   "id": "b505c879",
   "metadata": {},
   "outputs": [],
   "source": [
    "def sorted_complex(xs: Iterable[complex]) -> List[complex]:\n",
    "    return sorted(xs, key=lambda v: (v.real, v.imag))"
   ]
  },
  {
   "cell_type": "markdown",
   "id": "81296e77",
   "metadata": {},
   "source": [
    "### Convert color to Pauli"
   ]
  },
  {
   "cell_type": "code",
   "execution_count": 41,
   "id": "8bd7cfd4",
   "metadata": {},
   "outputs": [],
   "source": [
    "def int_to_Pauli (i : int):\n",
    "    if i==0:\n",
    "        return \"X\"\n",
    "    elif i==1:\n",
    "        return \"Y\"\n",
    "    elif i==2:\n",
    "        return \"Z\"\n",
    "    else: raise ValueError('integer must be 0,1,2')"
   ]
  },
  {
   "cell_type": "markdown",
   "id": "4816083c",
   "metadata": {},
   "source": [
    "### Plaquette coordinate \n",
    "hex_center = coordinate of the lattice, 2D --> using complex numbers, a plaquette is represented by a 2x2 squarre.\n",
    "\n",
    "Category = 0,1,2 = red, green, blue"
   ]
  },
  {
   "cell_type": "code",
   "execution_count": 5,
   "id": "0b1ae2cf",
   "metadata": {},
   "outputs": [],
   "source": [
    "hex_centers: Dict[complex, int] = {}\n",
    "for row in range(3 * distance):\n",
    "    for col in range(2 * distance):\n",
    "        center = row * 2j + 2 * col - 1j * (col % 2)\n",
    "        category = (-row - col % 2) % 3\n",
    "        hex_centers[torus(center, distance=distance)] = category"
   ]
  },
  {
   "cell_type": "code",
   "execution_count": 6,
   "id": "50736d39",
   "metadata": {},
   "outputs": [
    {
     "name": "stdout",
     "output_type": "stream",
     "text": [
      "{0j: 0, (2+5j): 2, 2j: 2, (2+1j): 1, 4j: 1, (2+3j): 0}\n"
     ]
    }
   ],
   "source": [
    "print(hex_centers)"
   ]
  },
  {
   "cell_type": "markdown",
   "id": "c1933dee",
   "metadata": {},
   "source": [
    "### Edges around a plaquette \n",
    "\n",
    "Defined by a list of 2 coordinates for the two qubits."
   ]
  },
  {
   "cell_type": "code",
   "execution_count": 7,
   "id": "449f7021",
   "metadata": {},
   "outputs": [],
   "source": [
    "EDGES_AROUND_HEX: List[Tuple[complex, complex]] = [\n",
    "    (-1 - 1j, +1 - 1j),\n",
    "    (+1 - 1j, +1),\n",
    "    (+1, +1 + 1j),\n",
    "    (+1 + 1j, -1 + 1j),\n",
    "    (-1 + 1j, -1),\n",
    "    (-1, -1 - 1j),\n",
    "]"
   ]
  },
  {
   "cell_type": "markdown",
   "id": "8371322d",
   "metadata": {},
   "source": [
    "### Edges from a plaquette \n",
    "Edges type is defined by which plaquettes they link: a edge between two red plaquettes is assigne \"X\"..."
   ]
  },
  {
   "cell_type": "code",
   "execution_count": 8,
   "id": "75b798c2",
   "metadata": {},
   "outputs": [],
   "source": [
    "EDGES_FROM_HEX: List[Tuple[complex, complex]] = [\n",
    "    (+1 + 1j, +1 + 2j),\n",
    "    (+1 - 1j, +1 -2j),\n",
    "    (+1, +3),\n",
    "]\n",
    "### only the edges on the right of the plaquette --> otherwise counted twice because all shared by two plaquettes\n",
    "### for the edges on the left, take - those on the right."
   ]
  },
  {
   "cell_type": "code",
   "execution_count": 9,
   "id": "e5c1cd67",
   "metadata": {},
   "outputs": [],
   "source": [
    "edge_groups: Dict[str, List[FrozenSet[complex]]] = {\"X\": [], \"Y\": [], \"Z\": []}\n",
    "edge_groups_no_frozen: Dict[str, List[complex]] = {\"X\": [], \"Y\": [], \"Z\": []}\n",
    "red_hexes = [h for h, category in hex_centers.items() if category == 0]\n",
    "for h in red_hexes:\n",
    "    for edge in EDGES_FROM_HEX:\n",
    "        q1=torus(h + edge[0], distance=distance)\n",
    "        q2=torus(h + edge[1], distance=distance)\n",
    "        edge_groups[\"X\"].append(frozenset([q1,q2]))\n",
    "        \n",
    "        ### for graphic purpose, don't use the following for computation\n",
    "        q1_no_torus=h + edge[0]\n",
    "        q2_no_torus=h + edge[1]\n",
    "        edge_groups_no_frozen[\"X\"].append([q1_no_torus,q2_no_torus])\n",
    "\n",
    "        \n",
    "        \n",
    "        \n",
    "green_hexes = [h for h, category in hex_centers.items() if category == 1]\n",
    "for h in green_hexes:\n",
    "    for edge in EDGES_FROM_HEX:\n",
    "        q1=torus(h + edge[0], distance=distance)\n",
    "        q2=torus(h + edge[1], distance=distance)\n",
    "        #print(h, q1,q2)\n",
    "        edge_groups[\"Y\"].append(frozenset([q1, q2]))\n",
    "        \n",
    "### for graphic purpose, don't use the following for computation\n",
    "        q1_no_torus=h + edge[0]\n",
    "        q2_no_torus=h + edge[1]\n",
    "        edge_groups_no_frozen[\"Y\"].append([q1_no_torus,q2_no_torus])        \n",
    " \n",
    "\n",
    "blue_hexes = [h for h, category in hex_centers.items() if category == 2]\n",
    "for h in blue_hexes:\n",
    "    for edge in EDGES_FROM_HEX:\n",
    "        q1=torus(h + edge[0], distance=distance)\n",
    "        q2=torus(h + edge[1], distance=distance)\n",
    "        #print(h, q1,q2)\n",
    "        edge_groups[\"Z\"].append(frozenset([q1, q2]))\n",
    "        \n",
    "### for graphic purpose, don't use the following for computation\n",
    "        q1_no_torus=h + edge[0]\n",
    "        q2_no_torus=h + edge[1]\n",
    "        edge_groups_no_frozen[\"Z\"].append([q1_no_torus,q2_no_torus])        \n",
    "        "
   ]
  },
  {
   "cell_type": "code",
   "execution_count": 10,
   "id": "4c89393a",
   "metadata": {},
   "outputs": [
    {
     "name": "stdout",
     "output_type": "stream",
     "text": [
      "[frozenset({(1+1j), (1+2j)}), frozenset({(1+5j), (1+4j)}), frozenset({(1+0j), (3+0j)}), frozenset({(3+5j), (3+4j)}), frozenset({(3+2j), (3+1j)}), frozenset({(1+3j), (3+3j)})]\n"
     ]
    }
   ],
   "source": [
    "print(edge_groups[\"X\"])"
   ]
  },
  {
   "cell_type": "code",
   "execution_count": 11,
   "id": "5b71f9d9",
   "metadata": {},
   "outputs": [
    {
     "data": {
      "image/png": "[encoded data removed]",
      "text/plain": [
       "<Figure size 640x480 with 1 Axes>"
      ]
     },
     "metadata": {},
     "output_type": "display_data"
    }
   ],
   "source": [
    "for e in edge_groups_no_frozen[\"X\"]:\n",
    "    plt.plot([e[0].real, e[1].real], [e[0].imag, e[1].imag], color='r')\n",
    "    \n",
    "for e in edge_groups_no_frozen[\"Y\"]:\n",
    "    plt.plot([e[0].real, e[1].real], [e[0].imag, e[1].imag], color='g')\n",
    "    \n",
    "for e in edge_groups_no_frozen[\"Z\"]:\n",
    "    plt.plot([e[0].real, e[1].real], [e[0].imag, e[1].imag], color='b')\n",
    "    \n",
    "for h in red_hexes:\n",
    "    plt.scatter(h.real, h.imag, color='r')\n",
    "\n",
    "for h in green_hexes:\n",
    "    plt.scatter(h.real, h.imag, color='g')\n",
    "    \n",
    "for h in blue_hexes:\n",
    "    plt.scatter(h.real, h.imag, color='b')"
   ]
  },
  {
   "cell_type": "markdown",
   "id": "5dc4fcc8",
   "metadata": {},
   "source": [
    "### Qubits"
   ]
  },
  {
   "cell_type": "code",
   "execution_count": 12,
   "id": "4b0395c7",
   "metadata": {},
   "outputs": [],
   "source": [
    "QUBITS_AROUND_HEX: List[Tuple[complex]] = [\n",
    "    (-1 - 1j),\n",
    "    (+1 - 1j),\n",
    "    (+1),\n",
    "    (+1 + 1j),\n",
    "    (-1 + 1j),\n",
    "    (-1),\n",
    "]\n",
    "### Qubits that form the plaquette"
   ]
  },
  {
   "cell_type": "code",
   "execution_count": 13,
   "id": "5e8421ff",
   "metadata": {},
   "outputs": [],
   "source": [
    "qubit_coordinates: Set[complex] = set()\n",
    "for h in hex_centers:\n",
    "    for qubit in QUBITS_AROUND_HEX:\n",
    "            q = h + qubit\n",
    "            qubit_coordinates.add(torus(q, distance=distance))\n",
    "# All the qubits arec ounted at least three times            \n",
    "            \n",
    "# Assign integer indices to the qubit positions.\n",
    "q2i: Dict[complex, int] = {q: i for i, q in enumerate(sorted_complex(qubit_coordinates))}"
   ]
  },
  {
   "cell_type": "code",
   "execution_count": 14,
   "id": "11a49374",
   "metadata": {},
   "outputs": [
    {
     "data": {
      "image/png": "[encoded data removed]",
      "text/plain": [
       "<Figure size 640x480 with 1 Axes>"
      ]
     },
     "metadata": {},
     "output_type": "display_data"
    }
   ],
   "source": [
    "for qubit in q2i:\n",
    "    plt.scatter([qubit.real], [qubit.imag], color='0')\n",
    "    plt.annotate(q2i[qubit], (qubit.real, qubit.imag))"
   ]
  },
  {
   "cell_type": "markdown",
   "id": "5c523786",
   "metadata": {},
   "source": [
    "# Measurement Outcomes "
   ]
  },
  {
   "cell_type": "code",
   "execution_count": 67,
   "id": "119f8208",
   "metadata": {},
   "outputs": [],
   "source": [
    "### Initialise all as 1\n",
    "\n",
    "\n",
    "Mesurement_Outcomes_X:Dict[List[FrozenSet[complex]], bool] = {edge: 1 for edge in edge_groups[\"X\"]}\n",
    "Mesurement_Outcomes_Y:Dict[List[FrozenSet[complex]], bool] = {edge: 1 for edge in edge_groups[\"Y\"]}\n",
    "Mesurement_Outcomes_Z:Dict[List[FrozenSet[complex]], bool] = {edge: 1 for edge in edge_groups[\"Z\"]}"
   ]
  },
  {
   "cell_type": "code",
   "execution_count": 68,
   "id": "05a766f4",
   "metadata": {},
   "outputs": [],
   "source": [
    "Measurement_Outcomes: Dict[str, Dict[List[FrozenSet[complex]], bool]] = {\"X\": Mesurement_Outcomes_X, \"Y\": Mesurement_Outcomes_Y, \"Z\": Mesurement_Outcomes_Z }"
   ]
  },
  {
   "cell_type": "markdown",
   "id": "eb9c600e",
   "metadata": {},
   "source": [
    "# Syndrome"
   ]
  },
  {
   "cell_type": "code",
   "execution_count": 64,
   "id": "86f5110d",
   "metadata": {},
   "outputs": [],
   "source": [
    "Syndrome: Dict[int, Dict[complex, bool]]={}\n",
    "    \n",
    "###Initialisation --> every plaquette =1 \n",
    "Syndrome[0]={h: -1 for h, category in hex_centers.items() if category == 1}\n",
    "Syndrome[1]={h: 1 for h, category in hex_centers.items() if category == 2}\n",
    "Syndrome[2]={h: 1 for h, category in hex_centers.items() if category == 0}"
   ]
  },
  {
   "cell_type": "markdown",
   "id": "084d8847",
   "metadata": {},
   "source": [
    "### Simulate the t+1 measurement - Updating the edges value"
   ]
  },
  {
   "cell_type": "code",
   "execution_count": 65,
   "id": "5c12f399",
   "metadata": {},
   "outputs": [],
   "source": [
    "def new_outcome(Syndrome:Dict[int, Dict[complex, bool]],\\\n",
    "                 Measurement_Outcomes: Dict[str, Dict[List[FrozenSet[complex]], bool]], error ):\n",
    "    \n",
    "    possible_outcomes=np.array([[1,1,1], [1,-1,-1], [-1,-1,1], [-1,1,-1]])\n",
    "    t=np.max([t for t, s in Syndrome.items()])\n",
    "    \n",
    "    Measured_Pauli= int_to_Pauli((t+1)%3) #the edges type we will measure \n",
    "    \n",
    "    for hex_c , syn_i in Syndrome[t-2].items() :\n",
    "        \n",
    "        assert hex_centers[hex_c]==(t+2)%3 #assert we are looking at the right plaquettes\n",
    "                                            #at round 3 we have the syndrome for green (1) plaquettes\n",
    "        \n",
    "        check_op=syn_i\n",
    "        edges_to_change=[]\n",
    "        \n",
    "        for edge0 in EDGES_AROUND_HEX:\n",
    "            \n",
    "            q1=torus(hex_c + edge0[0], distance=distance)\n",
    "            q2=torus(hex_c + edge0[1], distance=distance)\n",
    "            edge=frozenset([q1, q2])\n",
    "            Paulis= [Pauli for Pauli in Measurement_Outcomes if edge in list(Measurement_Outcomes[Pauli].keys())] \n",
    "        #above command is a bit complicated maybe there is an easier way to implement it\n",
    "            assert len(Paulis)==1 #assert there is only one plaquette at this location in the dictionnary \n",
    "            Pauli_edge=Paulis[0]\n",
    "            \n",
    "            if Pauli_edge==Measured_Pauli: edges_to_change.append(edge)\n",
    "            elif Pauli_edge == int_to_Pauli(t%3): check_op *= Measurement_Outcomes[Pauli_edge][edge]\n",
    "            else: raise ValueError('Wrong Pauli value for edges')\n",
    "                \n",
    "                \n",
    "        assert len(edges_to_change)==3        \n",
    "        new_edges_value=check_op*random.choice(possible_outcomes) # *errors , to implement later\n",
    "        for i in range(3):\n",
    "            Measurement_Outcomes[Measured_Pauli][edges_to_change[i]]=new_edges_value[i] #update the edges value\n",
    "            "
   ]
  },
  {
   "cell_type": "code",
   "execution_count": 69,
   "id": "8f58aeda",
   "metadata": {},
   "outputs": [
    {
     "name": "stdout",
     "output_type": "stream",
     "text": [
      "{'X': {frozenset({(1+1j), (1+2j)}): -1, frozenset({(1+5j), (1+4j)}): -1, frozenset({(1+0j), (3+0j)}): 1, frozenset({(3+5j), (3+4j)}): -1, frozenset({(3+2j), (3+1j)}): 1, frozenset({(1+3j), (3+3j)}): -1}, 'Y': {frozenset({(3+2j), (3+3j)}): 1, frozenset({(3+5j), (3+0j)}): 1, frozenset({(1+1j), (3+1j)}): 1, frozenset({(1+5j), (1+0j)}): 1, frozenset({(1+3j), (1+2j)}): 1, frozenset({(1+4j), (3+4j)}): 1}, 'Z': {frozenset({(3+0j), (3+1j)}): 1, frozenset({(3+3j), (3+4j)}): 1, frozenset({(1+5j), (3+5j)}): 1, frozenset({(1+3j), (1+4j)}): 1, frozenset({(1+0j), (1+1j)}): 1, frozenset({(3+2j), (1+2j)}): 1}}\n"
     ]
    }
   ],
   "source": [
    "new_outcome(Syndrome, Measurement_Outcomes, 0)\n",
    "print(Measurement_Outcomes)"
   ]
  },
  {
   "cell_type": "markdown",
   "id": "939dce39",
   "metadata": {},
   "source": [
    "### Update the syndrome after the t+1 measurement"
   ]
  },
  {
   "cell_type": "code",
   "execution_count": 45,
   "id": "3bd59295",
   "metadata": {},
   "outputs": [],
   "source": [
    "### No error for the moment \n",
    "def new_syndrome(Syndrome:Dict[int, Dict[complex, bool]],\\\n",
    "                 Measurement_Outcomes: Dict[str, Dict[List[FrozenSet[complex]], bool]]):\n",
    "    t=np.max([t for t, s in Syndrome.items()])\n",
    "    #print(t)\n",
    "    Syndrome[t+1]={} ##Create the new key for time t+1\n",
    "    for hex_c , syn_i in Syndrome[t-2].items() :\n",
    "        \n",
    "        assert hex_centers[hex_c]==(t+2)%3 #assert we are looking at the right plaquettes\n",
    "                                            #at round 3 we have the syndrome for green (1) plaquettes\n",
    "        syn_f=1\n",
    "        for edge0 in EDGES_AROUND_HEX:\n",
    "            q1=torus(hex_c + edge0[0], distance=distance)\n",
    "            q2=torus(hex_c + edge0[1], distance=distance)\n",
    "            edge=frozenset([q1, q2])\n",
    "            Paulis= [Pauli for Pauli in Measurement_Outcomes if edge in list(Measurement_Outcomes[Pauli].keys())] \n",
    "        #above command is a bit complicated maybe there is an easier way to implement it\n",
    "            assert len(Paulis)==1 #assert there is only one plaquette at this location in the dictionnary \n",
    "            Pauli_edge=Paulis[0]\n",
    "            #print(Pauli_edge, syn_f)\n",
    "            syn_f*= Measurement_Outcomes[Pauli_edge][edge] #multiply the syndrome by the edge value\n",
    "        #syn_f*=syn_i  #compare it with the previous syndrome at time t-2 !!! we need to keep the real plaquette value to simulate the measurement outcomes\n",
    "        Syndrome[t+1][hex_c]=syn_f #create the new key for the plaquette and save the syndrome value"
   ]
  },
  {
   "cell_type": "code",
   "execution_count": 46,
   "id": "8452ac7c",
   "metadata": {},
   "outputs": [
    {
     "name": "stdout",
     "output_type": "stream",
     "text": [
      "{0: {(2+1j): 1, 4j: 1}, 1: {(2+5j): 1, 2j: 1}, 2: {0j: 1, (2+3j): 1}, 3: {(2+1j): -1, 4j: -1}}\n"
     ]
    }
   ],
   "source": [
    "new_syndrome(Syndrome, Measurement_Outcomes)\n",
    "print(Syndrome)"
   ]
  },
  {
   "cell_type": "code",
   "execution_count": null,
   "id": "4a35d76d",
   "metadata": {},
   "outputs": [],
   "source": []
  },
  {
   "cell_type": "code",
   "execution_count": null,
   "id": "a3201e2b",
   "metadata": {},
   "outputs": [],
   "source": []
  },
  {
   "cell_type": "code",
   "execution_count": null,
   "id": "ebf2b5f2",
   "metadata": {},
   "outputs": [],
   "source": []
  },
  {
   "cell_type": "code",
   "execution_count": null,
   "id": "303689f0",
   "metadata": {},
   "outputs": [],
   "source": []
  },
  {
   "cell_type": "markdown",
   "id": "ccfb86a4",
   "metadata": {},
   "source": [
    "# Draft stuff"
   ]
  },
  {
   "cell_type": "code",
   "execution_count": 112,
   "id": "a478a3df",
   "metadata": {},
   "outputs": [
    {
     "data": {
      "text/plain": [
       "True"
      ]
     },
     "execution_count": 112,
     "metadata": {},
     "output_type": "execute_result"
    }
   ],
   "source": [
    "frozenset({(1+1j), (1+2j)})==set({(1+1j), (1+2j)})"
   ]
  },
  {
   "cell_type": "code",
   "execution_count": 109,
   "id": "0d6c3684",
   "metadata": {},
   "outputs": [
    {
     "name": "stdout",
     "output_type": "stream",
     "text": [
      "-1\n"
     ]
    }
   ],
   "source": [
    "print(Measurement_Outcomes['X'][frozenset({(1+1j), (1+2j)})])"
   ]
  },
  {
   "cell_type": "code",
   "execution_count": 111,
   "id": "bf98f1c7",
   "metadata": {},
   "outputs": [
    {
     "data": {
      "text/plain": [
       "dict_items([(0j, 1), ((2+3j), 1)])"
      ]
     },
     "execution_count": 111,
     "metadata": {},
     "output_type": "execute_result"
    }
   ],
   "source": [
    "Syndrome[0].items()"
   ]
  },
  {
   "cell_type": "code",
   "execution_count": 113,
   "id": "9e1150c5",
   "metadata": {},
   "outputs": [
    {
     "data": {
      "text/plain": [
       "2"
      ]
     },
     "execution_count": 113,
     "metadata": {},
     "output_type": "execute_result"
    }
   ],
   "source": [
    "np.max([t for t, syn in Syndrome.items()])"
   ]
  },
  {
   "cell_type": "code",
   "execution_count": 119,
   "id": "4f336474",
   "metadata": {},
   "outputs": [
    {
     "name": "stdout",
     "output_type": "stream",
     "text": [
      "Y 1\n",
      "X 1\n",
      "Y -1\n",
      "X -1\n",
      "Y 1\n",
      "X 1\n",
      "Y 1\n",
      "X 1\n",
      "Y -1\n",
      "X -1\n",
      "Y 1\n",
      "X 1\n"
     ]
    }
   ],
   "source": [
    "for hex_c , syn_i in Syndrome[2].items() :\n",
    "    syn_f=1\n",
    "    for edge0 in EDGES_AROUND_HEX:\n",
    "        q1=torus(hex_c + edge0[0], distance=distance)\n",
    "        q2=torus(hex_c + edge0[1], distance=distance)\n",
    "        edge=frozenset([q1, q2])\n",
    "        Paulis= [Pauli for Pauli in Measurement_Outcomes if edge in list(Measurement_Outcomes[Pauli].keys())]\n",
    "        assert len(Paulis)==1\n",
    "        Pauli_edge=Paulis[0]\n",
    "        print(Pauli_edge, syn_f)\n",
    "        syn_f*= Measurement_Outcomes[Pauli_edge][edge]\n",
    "    syn_f*=syn_i"
   ]
  },
  {
   "cell_type": "code",
   "execution_count": 124,
   "id": "9dc3a864",
   "metadata": {},
   "outputs": [
    {
     "name": "stdout",
     "output_type": "stream",
     "text": [
      "-1\n"
     ]
    }
   ],
   "source": [
    "print(syn_f)"
   ]
  },
  {
   "cell_type": "code",
   "execution_count": 96,
   "id": "0cf42a89",
   "metadata": {},
   "outputs": [
    {
     "name": "stdout",
     "output_type": "stream",
     "text": [
      "One line Code Key value:  Java\n"
     ]
    }
   ],
   "source": [
    "# creating a new dictionary\n",
    "my_dict ={\"Java\":100, \"Python\":112, \"C\":11}\n",
    "\n",
    "# one-liner\n",
    "print(\"One line Code Key value: \", list(my_dict.keys())\n",
    "\t[list(my_dict.values()).index(100)])\n"
   ]
  },
  {
   "cell_type": "code",
   "execution_count": null,
   "id": "8bb3bdda",
   "metadata": {},
   "outputs": [],
   "source": []
  }
 ],
 "metadata": {
  "kernelspec": {
   "display_name": "Python 3 (ipykernel)",
   "language": "python",
   "name": "python3"
  },
  "language_info": {
   "codemirror_mode": {
    "name": "ipython",
    "version": 3
   },
   "file_extension": ".py",
   "mimetype": "text/x-python",
   "name": "python",
   "nbconvert_exporter": "python",
   "pygments_lexer": "ipython3",
   "version": "3.9.13"
  }
 },
 "nbformat": 4,
 "nbformat_minor": 5
}
